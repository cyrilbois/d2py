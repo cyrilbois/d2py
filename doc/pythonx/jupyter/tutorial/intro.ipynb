{
 "cells": [
  {
   "cell_type": "markdown",
   "metadata": {},
   "source": [
    "# Jupyter 简介\n",
    "\n",
    "[Jupyter Notebook](https://jupyter-notebook.readthedocs.io/) 在数据科学家中越来越受欢迎，并已成为快速原型设计和探索性分析的事实上的标准。它们极大地激发了实验和创新，并且使整个研究过程变得更快、更可靠。此外，还创建了许多额外的组件，扩展了它们的原始使用限制，并启用了新的用途。"
   ]
  }
 ],
 "metadata": {
  "language_info": {
   "name": "python"
  }
 },
 "nbformat": 4,
 "nbformat_minor": 2
}
