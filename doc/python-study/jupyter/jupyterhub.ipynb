{
 "cells": [
  {
   "cell_type": "markdown",
   "metadata": {},
   "source": [
    "# JupyterHub\n",
    "\n",
    "参考：\n",
    "\n",
    "- [native-authenticator](https://native-authenticator.readthedocs.io/en/latest/)：这是一个相对简单的验证器，适用于小型或中型JupyterHub应用程序。注册和身份验证是在JupyterHub上实现的，不依赖于外部服务。"
   ]
  }
 ],
 "metadata": {
  "language_info": {
   "name": "python"
  },
  "orig_nbformat": 4
 },
 "nbformat": 4,
 "nbformat_minor": 2
}
