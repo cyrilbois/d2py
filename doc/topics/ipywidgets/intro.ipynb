{
 "cells": [
  {
   "attachments": {},
   "cell_type": "markdown",
   "metadata": {},
   "source": [
    "# Jupyter Widgets 简介\n",
    "\n",
    "[Jupyter Widgets](https://ipywidgets.readthedocs.io/en/stable/index.html) 是 Jupyter 笔记本的[交互式浏览器控件](https://github.com/jupyter-widgets/ipywidgets/blob/master/docs/source/examples/Index.ipynb)。包括：\n",
    "\n",
    "- 基本的表单控件：如滑块、复选框、文本输入\n",
    "- 容器控件：如 tabs, accordions，水平和垂直布局框，网格布局\n",
    "- 高级控件：如地图，2D 和3D 可视化，数据网格等"
   ]
  }
 ],
 "metadata": {
  "language_info": {
   "name": "python"
  },
  "orig_nbformat": 4
 },
 "nbformat": 4,
 "nbformat_minor": 2
}
