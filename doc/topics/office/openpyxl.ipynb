{
 "cells": [
  {
   "attachments": {},
   "cell_type": "markdown",
   "metadata": {},
   "source": [
    "# `openpyxl` 操作 Excel\n",
    "\n",
    "[openpyxl](https://openpyxl.readthedocs.io/en/stable/index.html) 用于读写 Excel 2010 xlsx/xlsm/xltx/xltm 文件的 Python 库。\n",
    "\n",
    "安装：\n",
    "\n",
    "```bash\n",
    "pip install openpyxl\n",
    "```"
   ]
  },
  {
   "cell_type": "markdown",
   "metadata": {},
   "source": [
    "## 新建工作表"
   ]
  }
 ],
 "metadata": {
  "kernelspec": {
   "display_name": "tvmx",
   "language": "python",
   "name": "python3"
  },
  "language_info": {
   "name": "python",
   "version": "3.10.9"
  },
  "orig_nbformat": 4,
  "vscode": {
   "interpreter": {
    "hash": "846e8d36a186a42439ed93df1391a42e82b1fcbccca95c6333e18613b78503b9"
   }
  }
 },
 "nbformat": 4,
 "nbformat_minor": 2
}
